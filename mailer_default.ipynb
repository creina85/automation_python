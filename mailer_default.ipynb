{
 "cells": [
  {
   "cell_type": "markdown",
   "metadata": {},
   "source": []
  },
  {
   "cell_type": "code",
   "execution_count": 1,
   "metadata": {},
   "outputs": [],
   "source": [
    "import os\n",
    "from email.message import EmailMessage\n",
    "import ssl\n",
    "import smtplib\n",
    "\n",
    "\n",
    "\n",
    "email_emisor = 'email_emisor@dominio.com'\n",
    "#email_contraseña = os.environ.get('EMAIL_PASWORD')\n",
    "email_contraseña = 'contraseña_email_emisor' #Ingresar contraseña del email emisor\n",
    "\n",
    "email_receptor = ['email_receptor1@dominio.com', 'email_receptor2@dominio.com'] #Ingresar los emails receptores que necesita\n",
    "\n",
    "asunto = 'Test Automatización Mailer'\n",
    "cuerpo = \"\"\"\n",
    "Este es un mensaje de prueba del mailer. \n",
    "El envío de este correo es automático, por favor no lo responda.\n",
    "\"\"\"\n",
    "\n",
    "em = EmailMessage()\n",
    "em['From'] = email_emisor\n",
    "em['To'] = email_receptor\n",
    "em['Subject'] = asunto\n",
    "em.set_content(cuerpo)\n",
    "\n",
    "\n",
    "contexto = ssl.create_default_context()\n",
    "\n",
    "with smtplib.SMTP_SSL('smtp.gmail.com', 465, context=contexto) as smtp:\n",
    "    smtp.login(email_emisor, email_contraseña)\n",
    "    smtp.sendmail(email_emisor, email_receptor, em.as_string())"
   ]
  }
 ],
 "metadata": {
  "kernelspec": {
   "display_name": "Python 3.9.0 64-bit",
   "language": "python",
   "name": "python3"
  },
  "language_info": {
   "codemirror_mode": {
    "name": "ipython",
    "version": 3
   },
   "file_extension": ".py",
   "mimetype": "text/x-python",
   "name": "python",
   "nbconvert_exporter": "python",
   "pygments_lexer": "ipython3",
   "version": "3.8.2"
  },
  "orig_nbformat": 4,
  "vscode": {
   "interpreter": {
    "hash": "066341deef80c7b921108b756a5bcf96bdb43c55180e1285789a39a25996421c"
   }
  }
 },
 "nbformat": 4,
 "nbformat_minor": 2
}
